{
 "cells": [
  {
   "cell_type": "markdown",
   "metadata": {},
   "source": [
    "# 统计学习方法 \n",
    "## 第2章 感知机\n",
    "#### 算法2.1 感知机学习算法的原始形式\n",
    "p29  \n",
    "参考了作者：ginger188的博客，地址为：https://blog.csdn.net/winter_evening/article/details/70196040 "
   ]
  },
  {
   "cell_type": "code",
   "execution_count": 32,
   "metadata": {},
   "outputs": [
    {
     "name": "stdout",
     "output_type": "stream",
     "text": [
      "[-0.545890865792358, 0.39563691378700405] 0.668908446648737\n"
     ]
    },
    {
     "data": {
      "image/png": "[encoded data removed]",
      "text/plain": [
       "<matplotlib.figure.Figure at 0x195e5f7cbe0>"
      ]
     },
     "metadata": {},
     "output_type": "display_data"
    }
   ],
   "source": [
    "import numpy as np\n",
    "import matplotlib.pyplot as plt\n",
    "import random\n",
    "#sign()\n",
    "def sign(x):\n",
    "    if x>=0:\n",
    "        return 1\n",
    "    else:\n",
    "        return -1\n",
    "    \n",
    "def fx(x,w,b):\n",
    "    ans=0.0\n",
    "    for i in range(len(x)):\n",
    "        ans+=x[i]*w[i]\n",
    "    ans=ans+b\n",
    "    return ans\n",
    "    \n",
    "#训练函数 \n",
    "#w,b 的值是随机取的\n",
    "#train_time:训练次数\n",
    "#feature_len:特征长度 \n",
    "#train_datas：训练数据 \n",
    "#lr：步长\n",
    "def train(train_time,feature_len,train_datas,lr):\n",
    "    w=[random.random() for i in range(feature_len)]\n",
    "    b=random.random()\n",
    "    for i in range(train_time):\n",
    "        temp=random.choice(train_datas)\n",
    "        x=[]\n",
    "        for j in range(len(temp)-1):\n",
    "            x.append(temp[j])\n",
    "        y=temp[-1]\n",
    "        if(y*fx(x,w,b)<=0):\n",
    "            for i in range(feature_len):\n",
    "                w[i]=w[i]+lr*y*x[i]\n",
    "            b=b*1.0+lr*y\n",
    "    return w,b\n",
    "\n",
    "#画图显示*1.0\n",
    "#维度是2的时候使用\n",
    "def plot_points(train_datas,w,b):\n",
    "    plt.figure()\n",
    "    x1 = np.linspace(0, 8, 100)  \n",
    "    x2 = (-b-w[0]*x1)/w[1]\n",
    "    plt.plot(x1, x2, color='r', label='y1 data')\n",
    "    datas_len=len(train_datas)\n",
    "    for i in range(datas_len):\n",
    "        if(train_datas[i][-1]==1):\n",
    "            plt.scatter(train_datas[i][0],train_datas[i][1],s=50)  \n",
    "        else:\n",
    "            plt.scatter(train_datas[i][0],train_datas[i][1],marker='x',s=50)  \n",
    "    plt.show()\n",
    "\n",
    "if __name__=='__main__':\n",
    "    train_data1 = [[1, 3, 1], [2, 2, 1], [3, 8, 1], [2, 6, 1]]  # 正样本\n",
    "    train_data2 = [[2, 1, -1], [4, 1, -1], [6, 2, -1], [7, 3, -1]]  # 负样本\n",
    "    train_datas = train_data1 + train_data2  # 样本集\n",
    "    w,b=train(train_time=100,feature_len=2,train_datas=train_datas,lr=0.01)\n",
    "    print(w,b)\n",
    "    plot_points(train_datas,w,b)         "
   ]
  },
  {
   "cell_type": "code",
   "execution_count": null,
   "metadata": {
    "collapsed": true
   },
   "outputs": [],
   "source": []
  }
 ],
 "metadata": {
  "kernelspec": {
   "display_name": "Python 3",
   "language": "python",
   "name": "python3"
  },
  "language_info": {
   "codemirror_mode": {
    "name": "ipython",
    "version": 3
   },
   "file_extension": ".py",
   "mimetype": "text/x-python",
   "name": "python",
   "nbconvert_exporter": "python",
   "pygments_lexer": "ipython3",
   "version": "3.6.2"
  }
 },
 "nbformat": 4,
 "nbformat_minor": 2
}
